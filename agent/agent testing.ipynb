{
 "cells": [
  {
   "cell_type": "code",
   "execution_count": 1,
   "id": "a5a3c8e3",
   "metadata": {},
   "outputs": [],
   "source": [
    "import pandas as pd\n",
    "import numpy as np\n",
    "import seaborn as sb\n",
    "import matplotlib.pyplot as plt\n",
    "import os\n",
    "import yaml\n",
    "#from dotenv import load_dotenv\n",
    "from langchain.agents import initialize_agent, Tool\n",
    "from langchain.agents.agent_types import AgentType\n",
    "from langchain.llms import OpenAI\n",
    "\n",
    "#from langchain_openai import OpenAI\n",
    "\n",
    "from langchain.tools import tool\n",
    "import requests\n",
    "\n",
    "#telegram bot\n",
    "from telegram import Update\n",
    "from telegram.ext import ApplicationBuilder, ContextTypes, MessageHandler, filters"
   ]
  },
  {
   "cell_type": "code",
   "execution_count": 2,
   "id": "c271fe90",
   "metadata": {},
   "outputs": [],
   "source": [
    "#set fixed parameters \n",
    "\n",
    "\n",
    "### OPENAI API ###\n",
    "with open('/home/christiane/git/stash/API/openai_api.yml', 'r') as file:\n",
    "    OPENAI_API_KEY = yaml.safe_load(file)[\"api\"]\n",
    "\n",
    "### TELEGRAM API ###\n",
    "with open('/home/christiane/git/stash/API/telegram_api.yml', 'r') as file:\n",
    "    TELEGRAM_TOKEN = yaml.safe_load(file)[\"api\"]\n",
    "    \n",
    "#check api key\n",
    "#print(OPENAI_API_KEY)\n",
    "#print(TELEGRAM_TOKEN)\n",
    "\n",
    "\n",
    "### URL Coingecko ###\n",
    "#url_coingecko = f\"https://api.coingecko.com/api/v3/simple/price?ids={symbol.lower()}&vs_currencies=usd\"\n",
    "#print(url_coingecko)"
   ]
  },
  {
   "cell_type": "code",
   "execution_count": 18,
   "id": "49fe9abc",
   "metadata": {},
   "outputs": [],
   "source": [
    "# Initialize LLM\n",
    "\n",
    "#OpenAI?\n",
    "\n",
    "#temperature\n",
    "# 0-0.3 -> focused/predictable\n",
    "# 0.7-1.0-> creative mode\n",
    "\n",
    "llm = OpenAI(temperature=0, openai_api_key=OPENAI_API_KEY)\n"
   ]
  },
  {
   "cell_type": "code",
   "execution_count": 6,
   "id": "ea3d43d8",
   "metadata": {},
   "outputs": [],
   "source": [
    "# Tool 1: Fetch current Crypto Price\n",
    "\n",
    "@tool\n",
    "def get_crypto_price_current(symbol: str) -> str:\n",
    "    \"\"\"Returns the current price of a given cryptocurrency symbol (e.g., BTC, ETH) using CoinGecko API\"\"\"\n",
    "     #fix for user input BTC&bitcoin\n",
    "    print(symbol)\n",
    "    COIN_LOOKUP = {\n",
    "        \"btc\": \"bitcoin\",\n",
    "        \"bitcoin\": \"bitcoin\",\n",
    "        \"eth\": \"ethereum\",\n",
    "        \"ethereum\": \"ethereum\",\n",
    "        \"sol\": \"solana\",\n",
    "        \"solana\": \"solana\",\n",
    "        \"ada\": \"cardano\",\n",
    "        \"cardano\": \"cardano\",\n",
    "        \"doge\": \"dogecoin\",\n",
    "        \"dogecoin\": \"dogecoin\",\n",
    "    }\n",
    "    \n",
    "    \n",
    "    try:\n",
    "        #for coingecko it has to be full name+lowercase\n",
    "        coin_lowercase = symbol.strip().lower()   #symbol gets generated from package llm (extracted from input)\n",
    "        coin_id = COIN_LOOKUP[coin_lowercase]     \n",
    "        url = f\"https://api.coingecko.com/api/v3/simple/price?ids={coin_id}&vs_currencies=eur\"\n",
    "        response = requests.get(url).json()\n",
    "        price = response[coin_id][\"eur\"]\n",
    "        return f\"The current price of {coin_id} is {price}€\"\n",
    "    \n",
    "    except Exception as e:\n",
    "        return f\"Error fetching price: {e}\"\n",
    "\n",
    "    \n"
   ]
  },
  {
   "cell_type": "code",
   "execution_count": 55,
   "id": "46cf6c2e",
   "metadata": {},
   "outputs": [
    {
     "ename": "SyntaxError",
     "evalue": "incomplete input (3127424064.py, line 8)",
     "output_type": "error",
     "traceback": [
      "  \u001b[36mCell\u001b[39m\u001b[36m \u001b[39m\u001b[32mIn[55]\u001b[39m\u001b[32m, line 8\u001b[39m\n\u001b[31m    \u001b[39m\u001b[31mprice = response[symbol.lower()][\"eur\"]\u001b[39m\n                                           ^\n\u001b[31mSyntaxError\u001b[39m\u001b[31m:\u001b[39m incomplete input\n"
     ]
    }
   ],
   "source": [
    "# Tool 2 Fetch history max of cryptocurrency\n",
    "\n",
    "@tool\n",
    "def get_crypto_price_history(symbol: str) -> str:\n",
    "    url = f\"https://api.coingecko.com/api/v3/coins/{symbol.lower()}/market_chart?vs_currency=eur&days=max\"\n",
    "    try:\n",
    "        response = requests.get(url).json()\n",
    "        price = response[symbol.lower()][\"eur\"]"
   ]
  },
  {
   "cell_type": "code",
   "execution_count": 1,
   "id": "c407c27b",
   "metadata": {},
   "outputs": [
    {
     "name": "stdout",
     "output_type": "stream",
     "text": [
      "EUR\n",
      "https://www.cryptodatadownload.com/cdd/Binance_BTCEUR_d.csv\n"
     ]
    },
    {
     "data": {
      "text/html": [
       "<div>\n",
       "<style scoped>\n",
       "    .dataframe tbody tr th:only-of-type {\n",
       "        vertical-align: middle;\n",
       "    }\n",
       "\n",
       "    .dataframe tbody tr th {\n",
       "        vertical-align: top;\n",
       "    }\n",
       "\n",
       "    .dataframe thead th {\n",
       "        text-align: right;\n",
       "    }\n",
       "</style>\n",
       "<table border=\"1\" class=\"dataframe\">\n",
       "  <thead>\n",
       "    <tr style=\"text-align: right;\">\n",
       "      <th></th>\n",
       "      <th>Unix</th>\n",
       "      <th>Date</th>\n",
       "      <th>Symbol</th>\n",
       "      <th>Open</th>\n",
       "      <th>High</th>\n",
       "      <th>Low</th>\n",
       "      <th>Close</th>\n",
       "      <th>Volume BTC</th>\n",
       "      <th>Volume EUR</th>\n",
       "      <th>tradecount</th>\n",
       "      <th>Delta_High</th>\n",
       "      <th>Delta_Low</th>\n",
       "    </tr>\n",
       "  </thead>\n",
       "  <tbody>\n",
       "    <tr>\n",
       "      <th>0</th>\n",
       "      <td>1750550400000</td>\n",
       "      <td>2025-06-22</td>\n",
       "      <td>BTCEUR</td>\n",
       "      <td>88728.21</td>\n",
       "      <td>89829.03</td>\n",
       "      <td>85411.45</td>\n",
       "      <td>87817.55</td>\n",
       "      <td>562.98370</td>\n",
       "      <td>4.913809e+07</td>\n",
       "      <td>75548</td>\n",
       "      <td>NaN</td>\n",
       "      <td>NaN</td>\n",
       "    </tr>\n",
       "    <tr>\n",
       "      <th>1</th>\n",
       "      <td>1750464000000</td>\n",
       "      <td>2025-06-21</td>\n",
       "      <td>BTCEUR</td>\n",
       "      <td>89755.10</td>\n",
       "      <td>90361.30</td>\n",
       "      <td>87663.31</td>\n",
       "      <td>88706.06</td>\n",
       "      <td>209.08262</td>\n",
       "      <td>1.861741e+07</td>\n",
       "      <td>32366</td>\n",
       "      <td>532.27</td>\n",
       "      <td>2251.86</td>\n",
       "    </tr>\n",
       "    <tr>\n",
       "      <th>2</th>\n",
       "      <td>1750377600000</td>\n",
       "      <td>2025-06-20</td>\n",
       "      <td>BTCEUR</td>\n",
       "      <td>90890.80</td>\n",
       "      <td>92480.78</td>\n",
       "      <td>88784.80</td>\n",
       "      <td>89755.09</td>\n",
       "      <td>390.23340</td>\n",
       "      <td>3.537340e+07</td>\n",
       "      <td>58041</td>\n",
       "      <td>2119.48</td>\n",
       "      <td>1121.49</td>\n",
       "    </tr>\n",
       "    <tr>\n",
       "      <th>3</th>\n",
       "      <td>1750291200000</td>\n",
       "      <td>2025-06-19</td>\n",
       "      <td>BTCEUR</td>\n",
       "      <td>91395.43</td>\n",
       "      <td>91750.00</td>\n",
       "      <td>90560.17</td>\n",
       "      <td>90889.81</td>\n",
       "      <td>143.58272</td>\n",
       "      <td>1.309223e+07</td>\n",
       "      <td>32390</td>\n",
       "      <td>-730.78</td>\n",
       "      <td>1775.37</td>\n",
       "    </tr>\n",
       "    <tr>\n",
       "      <th>4</th>\n",
       "      <td>1750204800000</td>\n",
       "      <td>2025-06-18</td>\n",
       "      <td>BTCEUR</td>\n",
       "      <td>91040.95</td>\n",
       "      <td>91749.99</td>\n",
       "      <td>90132.36</td>\n",
       "      <td>91390.86</td>\n",
       "      <td>287.99400</td>\n",
       "      <td>2.619193e+07</td>\n",
       "      <td>65908</td>\n",
       "      <td>-0.01</td>\n",
       "      <td>-427.81</td>\n",
       "    </tr>\n",
       "  </tbody>\n",
       "</table>\n",
       "</div>"
      ],
      "text/plain": [
       "            Unix        Date  Symbol      Open      High       Low     Close  \\\n",
       "0  1750550400000  2025-06-22  BTCEUR  88728.21  89829.03  85411.45  87817.55   \n",
       "1  1750464000000  2025-06-21  BTCEUR  89755.10  90361.30  87663.31  88706.06   \n",
       "2  1750377600000  2025-06-20  BTCEUR  90890.80  92480.78  88784.80  89755.09   \n",
       "3  1750291200000  2025-06-19  BTCEUR  91395.43  91750.00  90560.17  90889.81   \n",
       "4  1750204800000  2025-06-18  BTCEUR  91040.95  91749.99  90132.36  91390.86   \n",
       "\n",
       "   Volume BTC    Volume EUR  tradecount  Delta_High  Delta_Low  \n",
       "0   562.98370  4.913809e+07       75548         NaN        NaN  \n",
       "1   209.08262  1.861741e+07       32366      532.27    2251.86  \n",
       "2   390.23340  3.537340e+07       58041     2119.48    1121.49  \n",
       "3   143.58272  1.309223e+07       32390     -730.78    1775.37  \n",
       "4   287.99400  2.619193e+07       65908       -0.01    -427.81  "
      ]
     },
     "execution_count": 1,
     "metadata": {},
     "output_type": "execute_result"
    }
   ],
   "source": [
    "import Mandelbrot\n",
    "\n",
    "\n",
    "Mandelbrot.historical_data(crypto=\"BTC\", curr=\"EUR\", gran=\"d\").head()\n"
   ]
  },
  {
   "cell_type": "code",
   "execution_count": null,
   "id": "e24f738f",
   "metadata": {},
   "outputs": [],
   "source": []
  },
  {
   "cell_type": "code",
   "execution_count": 8,
   "id": "5d46625e",
   "metadata": {},
   "outputs": [
    {
     "name": "stderr",
     "output_type": "stream",
     "text": [
      "/tmp/ipykernel_4783/687343348.py:4: LangChainDeprecationWarning: LangChain agents will continue to be supported, but it is recommended for new use cases to be built with LangGraph. LangGraph offers a more flexible and full-featured framework for building agents, including support for tool-calling, persistence of state, and human-in-the-loop workflows. For details, refer to the `LangGraph documentation <https://langchain-ai.github.io/langgraph/>`_ as well as guides for `Migrating from AgentExecutor <https://python.langchain.com/docs/how_to/migrate_agent/>`_ and LangGraph's `Pre-built ReAct agent <https://langchain-ai.github.io/langgraph/how-tos/create-react-agent/>`_.\n",
      "  agent = initialize_agent(\n"
     ]
    }
   ],
   "source": [
    "# Agent Initialization \n",
    "tools = [get_crypto_price_current]\n",
    "\n",
    "agent = initialize_agent(\n",
    "    tools,\n",
    "    llm,\n",
    "    agent=AgentType.ZERO_SHOT_REACT_DESCRIPTION,\n",
    "    verbose=True\n",
    ")\n",
    "\n"
   ]
  },
  {
   "cell_type": "code",
   "execution_count": 18,
   "id": "46d7ac3f",
   "metadata": {},
   "outputs": [
    {
     "name": "stdout",
     "output_type": "stream",
     "text": [
      "Bot is running...\n"
     ]
    },
    {
     "ename": "RuntimeError",
     "evalue": "Cannot close a running event loop",
     "output_type": "error",
     "traceback": [
      "\u001b[31m---------------------------------------------------------------------------\u001b[39m",
      "\u001b[31mRuntimeError\u001b[39m                              Traceback (most recent call last)",
      "\u001b[36mFile \u001b[39m\u001b[32m~/naconda3/envs/MOM/lib/python3.12/site-packages/telegram/ext/_application.py:1042\u001b[39m, in \u001b[36mApplication.__run\u001b[39m\u001b[34m(self, updater_coroutine, stop_signals, bootstrap_retries, close_loop)\u001b[39m\n\u001b[32m   1041\u001b[39m \u001b[38;5;28;01mtry\u001b[39;00m:\n\u001b[32m-> \u001b[39m\u001b[32m1042\u001b[39m     \u001b[43mloop\u001b[49m\u001b[43m.\u001b[49m\u001b[43mrun_until_complete\u001b[49m\u001b[43m(\u001b[49m\u001b[38;5;28;43mself\u001b[39;49m\u001b[43m.\u001b[49m\u001b[43m_bootstrap_initialize\u001b[49m\u001b[43m(\u001b[49m\u001b[43mmax_retries\u001b[49m\u001b[43m=\u001b[49m\u001b[43mbootstrap_retries\u001b[49m\u001b[43m)\u001b[49m\u001b[43m)\u001b[49m\n\u001b[32m   1043\u001b[39m     \u001b[38;5;28;01mif\u001b[39;00m \u001b[38;5;28mself\u001b[39m.post_init:\n",
      "\u001b[36mFile \u001b[39m\u001b[32m~/naconda3/envs/MOM/lib/python3.12/asyncio/base_events.py:667\u001b[39m, in \u001b[36mBaseEventLoop.run_until_complete\u001b[39m\u001b[34m(self, future)\u001b[39m\n\u001b[32m    666\u001b[39m \u001b[38;5;28mself\u001b[39m._check_closed()\n\u001b[32m--> \u001b[39m\u001b[32m667\u001b[39m \u001b[38;5;28;43mself\u001b[39;49m\u001b[43m.\u001b[49m\u001b[43m_check_running\u001b[49m\u001b[43m(\u001b[49m\u001b[43m)\u001b[49m\n\u001b[32m    669\u001b[39m new_task = \u001b[38;5;129;01mnot\u001b[39;00m futures.isfuture(future)\n",
      "\u001b[36mFile \u001b[39m\u001b[32m~/naconda3/envs/MOM/lib/python3.12/asyncio/base_events.py:626\u001b[39m, in \u001b[36mBaseEventLoop._check_running\u001b[39m\u001b[34m(self)\u001b[39m\n\u001b[32m    625\u001b[39m \u001b[38;5;28;01mif\u001b[39;00m \u001b[38;5;28mself\u001b[39m.is_running():\n\u001b[32m--> \u001b[39m\u001b[32m626\u001b[39m     \u001b[38;5;28;01mraise\u001b[39;00m \u001b[38;5;167;01mRuntimeError\u001b[39;00m(\u001b[33m'\u001b[39m\u001b[33mThis event loop is already running\u001b[39m\u001b[33m'\u001b[39m)\n\u001b[32m    627\u001b[39m \u001b[38;5;28;01mif\u001b[39;00m events._get_running_loop() \u001b[38;5;129;01mis\u001b[39;00m \u001b[38;5;129;01mnot\u001b[39;00m \u001b[38;5;28;01mNone\u001b[39;00m:\n",
      "\u001b[31mRuntimeError\u001b[39m: This event loop is already running",
      "\nDuring handling of the above exception, another exception occurred:\n",
      "\u001b[31mRuntimeError\u001b[39m                              Traceback (most recent call last)",
      "\u001b[36mFile \u001b[39m\u001b[32m~/naconda3/envs/MOM/lib/python3.12/site-packages/telegram/ext/_application.py:1067\u001b[39m, in \u001b[36mApplication.__run\u001b[39m\u001b[34m(self, updater_coroutine, stop_signals, bootstrap_retries, close_loop)\u001b[39m\n\u001b[32m   1066\u001b[39m         loop.run_until_complete(\u001b[38;5;28mself\u001b[39m.post_stop(\u001b[38;5;28mself\u001b[39m))\n\u001b[32m-> \u001b[39m\u001b[32m1067\u001b[39m \u001b[43mloop\u001b[49m\u001b[43m.\u001b[49m\u001b[43mrun_until_complete\u001b[49m\u001b[43m(\u001b[49m\u001b[38;5;28;43mself\u001b[39;49m\u001b[43m.\u001b[49m\u001b[43mshutdown\u001b[49m\u001b[43m(\u001b[49m\u001b[43m)\u001b[49m\u001b[43m)\u001b[49m\n\u001b[32m   1068\u001b[39m \u001b[38;5;28;01mif\u001b[39;00m \u001b[38;5;28mself\u001b[39m.post_shutdown:\n",
      "\u001b[36mFile \u001b[39m\u001b[32m~/naconda3/envs/MOM/lib/python3.12/asyncio/base_events.py:667\u001b[39m, in \u001b[36mBaseEventLoop.run_until_complete\u001b[39m\u001b[34m(self, future)\u001b[39m\n\u001b[32m    666\u001b[39m \u001b[38;5;28mself\u001b[39m._check_closed()\n\u001b[32m--> \u001b[39m\u001b[32m667\u001b[39m \u001b[38;5;28;43mself\u001b[39;49m\u001b[43m.\u001b[49m\u001b[43m_check_running\u001b[49m\u001b[43m(\u001b[49m\u001b[43m)\u001b[49m\n\u001b[32m    669\u001b[39m new_task = \u001b[38;5;129;01mnot\u001b[39;00m futures.isfuture(future)\n",
      "\u001b[36mFile \u001b[39m\u001b[32m~/naconda3/envs/MOM/lib/python3.12/asyncio/base_events.py:626\u001b[39m, in \u001b[36mBaseEventLoop._check_running\u001b[39m\u001b[34m(self)\u001b[39m\n\u001b[32m    625\u001b[39m \u001b[38;5;28;01mif\u001b[39;00m \u001b[38;5;28mself\u001b[39m.is_running():\n\u001b[32m--> \u001b[39m\u001b[32m626\u001b[39m     \u001b[38;5;28;01mraise\u001b[39;00m \u001b[38;5;167;01mRuntimeError\u001b[39;00m(\u001b[33m'\u001b[39m\u001b[33mThis event loop is already running\u001b[39m\u001b[33m'\u001b[39m)\n\u001b[32m    627\u001b[39m \u001b[38;5;28;01mif\u001b[39;00m events._get_running_loop() \u001b[38;5;129;01mis\u001b[39;00m \u001b[38;5;129;01mnot\u001b[39;00m \u001b[38;5;28;01mNone\u001b[39;00m:\n",
      "\u001b[31mRuntimeError\u001b[39m: This event loop is already running",
      "\nDuring handling of the above exception, another exception occurred:\n",
      "\u001b[31mRuntimeError\u001b[39m                              Traceback (most recent call last)",
      "\u001b[36mCell\u001b[39m\u001b[36m \u001b[39m\u001b[32mIn[18]\u001b[39m\u001b[32m, line 12\u001b[39m\n\u001b[32m     10\u001b[39m \u001b[38;5;28;01mif\u001b[39;00m \u001b[34m__name__\u001b[39m == \u001b[33m\"\u001b[39m\u001b[33m__main__\u001b[39m\u001b[33m\"\u001b[39m:\n\u001b[32m     11\u001b[39m     \u001b[38;5;28mprint\u001b[39m(\u001b[33m\"\u001b[39m\u001b[33mBot is running...\u001b[39m\u001b[33m\"\u001b[39m)\n\u001b[32m---> \u001b[39m\u001b[32m12\u001b[39m     \u001b[43mapp\u001b[49m\u001b[43m.\u001b[49m\u001b[43mrun_polling\u001b[49m\u001b[43m(\u001b[49m\u001b[43m)\u001b[49m\n",
      "\u001b[36mFile \u001b[39m\u001b[32m~/naconda3/envs/MOM/lib/python3.12/site-packages/telegram/ext/_application.py:832\u001b[39m, in \u001b[36mApplication.run_polling\u001b[39m\u001b[34m(self, poll_interval, timeout, bootstrap_retries, allowed_updates, drop_pending_updates, close_loop, stop_signals)\u001b[39m\n\u001b[32m    829\u001b[39m \u001b[38;5;28;01mdef\u001b[39;00m\u001b[38;5;250m \u001b[39m\u001b[34merror_callback\u001b[39m(exc: TelegramError) -> \u001b[38;5;28;01mNone\u001b[39;00m:\n\u001b[32m    830\u001b[39m     \u001b[38;5;28mself\u001b[39m.create_task(\u001b[38;5;28mself\u001b[39m.process_error(error=exc, update=\u001b[38;5;28;01mNone\u001b[39;00m))\n\u001b[32m--> \u001b[39m\u001b[32m832\u001b[39m \u001b[38;5;28;01mreturn\u001b[39;00m \u001b[38;5;28;43mself\u001b[39;49m\u001b[43m.\u001b[49m\u001b[43m__run\u001b[49m\u001b[43m(\u001b[49m\n\u001b[32m    833\u001b[39m \u001b[43m    \u001b[49m\u001b[43mupdater_coroutine\u001b[49m\u001b[43m=\u001b[49m\u001b[38;5;28;43mself\u001b[39;49m\u001b[43m.\u001b[49m\u001b[43mupdater\u001b[49m\u001b[43m.\u001b[49m\u001b[43mstart_polling\u001b[49m\u001b[43m(\u001b[49m\n\u001b[32m    834\u001b[39m \u001b[43m        \u001b[49m\u001b[43mpoll_interval\u001b[49m\u001b[43m=\u001b[49m\u001b[43mpoll_interval\u001b[49m\u001b[43m,\u001b[49m\n\u001b[32m    835\u001b[39m \u001b[43m        \u001b[49m\u001b[43mtimeout\u001b[49m\u001b[43m=\u001b[49m\u001b[43mtimeout\u001b[49m\u001b[43m,\u001b[49m\n\u001b[32m    836\u001b[39m \u001b[43m        \u001b[49m\u001b[43mbootstrap_retries\u001b[49m\u001b[43m=\u001b[49m\u001b[43mbootstrap_retries\u001b[49m\u001b[43m,\u001b[49m\n\u001b[32m    837\u001b[39m \u001b[43m        \u001b[49m\u001b[43mallowed_updates\u001b[49m\u001b[43m=\u001b[49m\u001b[43mallowed_updates\u001b[49m\u001b[43m,\u001b[49m\n\u001b[32m    838\u001b[39m \u001b[43m        \u001b[49m\u001b[43mdrop_pending_updates\u001b[49m\u001b[43m=\u001b[49m\u001b[43mdrop_pending_updates\u001b[49m\u001b[43m,\u001b[49m\n\u001b[32m    839\u001b[39m \u001b[43m        \u001b[49m\u001b[43merror_callback\u001b[49m\u001b[43m=\u001b[49m\u001b[43merror_callback\u001b[49m\u001b[43m,\u001b[49m\u001b[43m  \u001b[49m\u001b[38;5;66;43;03m# if there is an error in fetching updates\u001b[39;49;00m\n\u001b[32m    840\u001b[39m \u001b[43m    \u001b[49m\u001b[43m)\u001b[49m\u001b[43m,\u001b[49m\n\u001b[32m    841\u001b[39m \u001b[43m    \u001b[49m\u001b[43mstop_signals\u001b[49m\u001b[43m=\u001b[49m\u001b[43mstop_signals\u001b[49m\u001b[43m,\u001b[49m\n\u001b[32m    842\u001b[39m \u001b[43m    \u001b[49m\u001b[43mbootstrap_retries\u001b[49m\u001b[43m=\u001b[49m\u001b[43mbootstrap_retries\u001b[49m\u001b[43m,\u001b[49m\n\u001b[32m    843\u001b[39m \u001b[43m    \u001b[49m\u001b[43mclose_loop\u001b[49m\u001b[43m=\u001b[49m\u001b[43mclose_loop\u001b[49m\u001b[43m,\u001b[49m\n\u001b[32m    844\u001b[39m \u001b[43m\u001b[49m\u001b[43m)\u001b[49m\n",
      "\u001b[36mFile \u001b[39m\u001b[32m~/naconda3/envs/MOM/lib/python3.12/site-packages/telegram/ext/_application.py:1072\u001b[39m, in \u001b[36mApplication.__run\u001b[39m\u001b[34m(self, updater_coroutine, stop_signals, bootstrap_retries, close_loop)\u001b[39m\n\u001b[32m   1070\u001b[39m \u001b[38;5;28;01mfinally\u001b[39;00m:\n\u001b[32m   1071\u001b[39m     \u001b[38;5;28;01mif\u001b[39;00m close_loop:\n\u001b[32m-> \u001b[39m\u001b[32m1072\u001b[39m         \u001b[43mloop\u001b[49m\u001b[43m.\u001b[49m\u001b[43mclose\u001b[49m\u001b[43m(\u001b[49m\u001b[43m)\u001b[49m\n",
      "\u001b[36mFile \u001b[39m\u001b[32m~/naconda3/envs/MOM/lib/python3.12/asyncio/unix_events.py:68\u001b[39m, in \u001b[36m_UnixSelectorEventLoop.close\u001b[39m\u001b[34m(self)\u001b[39m\n\u001b[32m     67\u001b[39m \u001b[38;5;28;01mdef\u001b[39;00m\u001b[38;5;250m \u001b[39m\u001b[34mclose\u001b[39m(\u001b[38;5;28mself\u001b[39m):\n\u001b[32m---> \u001b[39m\u001b[32m68\u001b[39m     \u001b[38;5;28;43msuper\u001b[39;49m\u001b[43m(\u001b[49m\u001b[43m)\u001b[49m\u001b[43m.\u001b[49m\u001b[43mclose\u001b[49m\u001b[43m(\u001b[49m\u001b[43m)\u001b[49m\n\u001b[32m     69\u001b[39m     \u001b[38;5;28;01mif\u001b[39;00m \u001b[38;5;129;01mnot\u001b[39;00m sys.is_finalizing():\n\u001b[32m     70\u001b[39m         \u001b[38;5;28;01mfor\u001b[39;00m sig \u001b[38;5;129;01min\u001b[39;00m \u001b[38;5;28mlist\u001b[39m(\u001b[38;5;28mself\u001b[39m._signal_handlers):\n",
      "\u001b[36mFile \u001b[39m\u001b[32m~/naconda3/envs/MOM/lib/python3.12/asyncio/selector_events.py:101\u001b[39m, in \u001b[36mBaseSelectorEventLoop.close\u001b[39m\u001b[34m(self)\u001b[39m\n\u001b[32m     99\u001b[39m \u001b[38;5;28;01mdef\u001b[39;00m\u001b[38;5;250m \u001b[39m\u001b[34mclose\u001b[39m(\u001b[38;5;28mself\u001b[39m):\n\u001b[32m    100\u001b[39m     \u001b[38;5;28;01mif\u001b[39;00m \u001b[38;5;28mself\u001b[39m.is_running():\n\u001b[32m--> \u001b[39m\u001b[32m101\u001b[39m         \u001b[38;5;28;01mraise\u001b[39;00m \u001b[38;5;167;01mRuntimeError\u001b[39;00m(\u001b[33m\"\u001b[39m\u001b[33mCannot close a running event loop\u001b[39m\u001b[33m\"\u001b[39m)\n\u001b[32m    102\u001b[39m     \u001b[38;5;28;01mif\u001b[39;00m \u001b[38;5;28mself\u001b[39m.is_closed():\n\u001b[32m    103\u001b[39m         \u001b[38;5;28;01mreturn\u001b[39;00m\n",
      "\u001b[31mRuntimeError\u001b[39m: Cannot close a running event loop"
     ]
    }
   ],
   "source": [
    "# Telegram bot\n",
    "async def handle_message(update: Update, context: ContextTypes.DEFAULT_TYPE):\n",
    "    user_message = update.message.text\n",
    "    response = agent.run(user_message)\n",
    "    await update.message.reply_text(response)\n",
    "\n",
    "app = ApplicationBuilder().token(TELEGRAM_TOKEN).build()\n",
    "app.add_handler(MessageHandler(filters.TEXT & ~filters.COMMAND, handle_message))\n",
    "\n",
    "if __name__ == \"__main__\":\n",
    "    print(\"Bot is running...\")\n",
    "    app.run_polling()"
   ]
  },
  {
   "cell_type": "code",
   "execution_count": 10,
   "id": "2caec172",
   "metadata": {},
   "outputs": [
    {
     "name": "stdout",
     "output_type": "stream",
     "text": [
      "\n",
      "\n",
      "\u001b[1m> Entering new AgentExecutor chain...\u001b[0m\n",
      "\u001b[32;1m\u001b[1;3m I should use the get_crypto_price_current function to get the current price of each cryptocurrency.\n",
      "Action: get_crypto_price_current\n",
      "Action Input: ETH\u001b[0mETH\n",
      "\n",
      "Observation: \u001b[36;1m\u001b[1;3mThe current price of ethereum is 1967.33€\u001b[0m\n",
      "Thought:\u001b[32;1m\u001b[1;3m I should also get the current price of BTC.\n",
      "Action: get_crypto_price_current\n",
      "Action Input: BTC\u001b[0mBTC\n",
      "\n",
      "Observation: \u001b[36;1m\u001b[1;3mThe current price of bitcoin is 88629€\u001b[0m\n",
      "Thought:\u001b[32;1m\u001b[1;3m I now know the final answer.\n",
      "Final Answer: The current price of ethereum is 1967.33€ and the current price of bitcoin is 88629€.\u001b[0m\n",
      "\n",
      "\u001b[1m> Finished chain.\u001b[0m\n",
      "The current price of ethereum is 1967.33€ and the current price of bitcoin is 88629€.\n"
     ]
    }
   ],
   "source": [
    "# sample usage\n",
    "if __name__ == \"__main__\":\n",
    "    question = \"What's the current price of ethereum and BTC?\"\n",
    "    print(agent.run(question))\n",
    "\n",
    "    ## Example portfolio value\n",
    "    #portfolio = {\n",
    "   #     \"bitcoin\": 0.2,\n",
    "    #    \"ethereum\": 1.5,\n",
    "     #   \"solana\": 10\n",
    "    #}\n",
    "    #print(agent.run(f\"Calculate the value of this portfolio: {portfolio}\"))\n"
   ]
  },
  {
   "cell_type": "code",
   "execution_count": 15,
   "id": "24a0fe89",
   "metadata": {},
   "outputs": [
    {
     "name": "stdout",
     "output_type": "stream",
     "text": [
      "\n",
      "\n",
      "\u001b[1m> Entering new AgentExecutor chain...\u001b[0m\n",
      "\u001b[32;1m\u001b[1;3m I should use the get_crypto_price_current function to get the current price of BTC.\n",
      "Action: get_crypto_price_current\n",
      "Action Input: \"BTC\"\u001b[0m\n",
      "Observation: \u001b[36;1m\u001b[1;3mThe current price of bitcoin is 96070€\u001b[0m\n",
      "Thought:\u001b[32;1m\u001b[1;3m I now know the final answer\n",
      "Final Answer: The current price of BTC is 96070€.\u001b[0m\n",
      "\n",
      "\u001b[1m> Finished chain.\u001b[0m\n"
     ]
    },
    {
     "data": {
      "text/plain": [
       "'The current price of BTC is 96070€.'"
      ]
     },
     "execution_count": 15,
     "metadata": {},
     "output_type": "execute_result"
    }
   ],
   "source": [
    "#test questions\n",
    "agent.run(\"What's the price of BTC?\")\n",
    "#agent.run(\"Give me the price of bitcoin.\")\n",
    "#agent.run(\"eth price?\")"
   ]
  },
  {
   "cell_type": "code",
   "execution_count": null,
   "id": "68ef1847",
   "metadata": {},
   "outputs": [],
   "source": [
    "@tool\n",
    "def get_crypto_price_history(symbol: str) -> str:\n",
    "    url = f\"https://api.coingecko.com/api/v3/coins/{symbol.lower()}/market_chart?vs_currency=eur&days=max\"\n",
    "    try:\n",
    "        response = requests.get(url).json()\n",
    "        price = response[symbol.lower()][\"eur\"]"
   ]
  },
  {
   "cell_type": "code",
   "execution_count": null,
   "id": "a6e7d788",
   "metadata": {},
   "outputs": [],
   "source": [
    "##telegram connection\n",
    "\n",
    "#Bot CryptoMOM\n",
    "#CryptoMOMBot\n",
    "\n",
    "#t.me/CryptoMOMBot\n",
    "#token Http API"
   ]
  },
  {
   "cell_type": "code",
   "execution_count": null,
   "id": "8edf77bf",
   "metadata": {},
   "outputs": [],
   "source": []
  }
 ],
 "metadata": {
  "kernelspec": {
   "display_name": "Python (crypto agent)",
   "language": "python",
   "name": "mom"
  },
  "language_info": {
   "codemirror_mode": {
    "name": "ipython",
    "version": 3
   },
   "file_extension": ".py",
   "mimetype": "text/x-python",
   "name": "python",
   "nbconvert_exporter": "python",
   "pygments_lexer": "ipython3",
   "version": "3.12.11"
  }
 },
 "nbformat": 4,
 "nbformat_minor": 5
}
