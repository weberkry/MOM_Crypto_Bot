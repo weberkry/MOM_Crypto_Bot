{
 "cells": [
  {
   "cell_type": "code",
   "execution_count": 16,
   "id": "a5a3c8e3",
   "metadata": {},
   "outputs": [],
   "source": [
    "import os\n",
    "import yaml\n",
    "#from dotenv import load_dotenv\n",
    "from langchain.agents import initialize_agent, Tool\n",
    "from langchain.agents.agent_types import AgentType\n",
    "from langchain.llms import OpenAI\n",
    "\n",
    "#from langchain_openai import OpenAI\n",
    "\n",
    "from langchain.tools import tool\n",
    "import requests\n",
    "\n",
    "#telegram bot\n",
    "from telegram import Update\n",
    "from telegram.ext import ApplicationBuilder, ContextTypes, MessageHandler, filters"
   ]
  },
  {
   "cell_type": "code",
   "execution_count": 19,
   "id": "c271fe90",
   "metadata": {},
   "outputs": [],
   "source": [
    "#set fixed parameters \n",
    "\n",
    "\n",
    "### OPENAI API ###\n",
    "with open('/home/christiane/git/stash/API/openai_api.yml', 'r') as file:\n",
    "    OPENAI_API_KEY = yaml.safe_load(file)[\"api\"]\n",
    "\n",
    "### TELEGRAM API ###\n",
    "with open('/home/christiane/git/stash/API/telegram_api.yml', 'r') as file:\n",
    "    TELEGRAM_TOKEN = yaml.safe_load(file)[\"api\"]\n",
    "    \n",
    "#check api key\n",
    "#print(OPENAI_API_KEY)\n",
    "#print(TELEGRAM_TOKEN)\n",
    "\n",
    "\n",
    "### URL Coingecko ###\n",
    "#url_coingecko = f\"https://api.coingecko.com/api/v3/simple/price?ids={symbol.lower()}&vs_currencies=usd\"\n",
    "#print(url_coingecko)"
   ]
  },
  {
   "cell_type": "code",
   "execution_count": 3,
   "id": "49fe9abc",
   "metadata": {},
   "outputs": [
    {
     "name": "stderr",
     "output_type": "stream",
     "text": [
      "/tmp/ipykernel_7721/763076216.py:9: LangChainDeprecationWarning: The class `OpenAI` was deprecated in LangChain 0.0.10 and will be removed in 1.0. An updated version of the class exists in the :class:`~langchain-openai package and should be used instead. To use it run `pip install -U :class:`~langchain-openai` and import as `from :class:`~langchain_openai import OpenAI``.\n",
      "  llm = OpenAI(temperature=0, openai_api_key=OPENAI_API_KEY)\n"
     ]
    }
   ],
   "source": [
    "# Initialize LLM\n",
    "\n",
    "OpenAI?\n",
    "\n",
    "#temperature\n",
    "# 0-0.3 -> focused/predictable\n",
    "# 0.7-1.0-> creative mode\n",
    "\n",
    "llm = OpenAI(temperature=0, openai_api_key=OPENAI_API_KEY)\n"
   ]
  },
  {
   "cell_type": "code",
   "execution_count": 12,
   "id": "ea3d43d8",
   "metadata": {},
   "outputs": [],
   "source": [
    "# Tool 1: Fetch current Crypto Price\n",
    "\n",
    "@tool\n",
    "def get_crypto_price_current(symbol: str) -> str:\n",
    "    \"\"\"Returns the current price of a given cryptocurrency symbol (e.g., BTC, ETH) using CoinGecko API\"\"\"\n",
    "     #fix for user input BTC&bitcoin\n",
    "    COIN_LOOKUP = {\n",
    "        \"btc\": \"bitcoin\",\n",
    "        \"bitcoin\": \"bitcoin\",\n",
    "        \"eth\": \"ethereum\",\n",
    "        \"ethereum\": \"ethereum\",\n",
    "        \"sol\": \"solana\",\n",
    "        \"solana\": \"solana\",\n",
    "        \"ada\": \"cardano\",\n",
    "        \"cardano\": \"cardano\",\n",
    "        \"doge\": \"dogecoin\",\n",
    "        \"dogecoin\": \"dogecoin\",\n",
    "    }\n",
    "    \n",
    "    \n",
    "    try:\n",
    "        #for coingecko it has to be full name+lowercase\n",
    "        coin_lowercase = symbol.strip().lower()   #symbol gets generated from package llm (extracted from input)\n",
    "        coin_id = COIN_LOOKUP[coin_lowercase]     \n",
    "        url = f\"https://api.coingecko.com/api/v3/simple/price?ids={coin_id}&vs_currencies=eur\"\n",
    "        response = requests.get(url).json()\n",
    "        price = response[coin_id][\"eur\"]\n",
    "        return f\"The current price of {coin_id} is {price}€\"\n",
    "    \n",
    "    except Exception as e:\n",
    "        return f\"Error fetching price: {e}\"\n",
    "\n",
    "    \n"
   ]
  },
  {
   "cell_type": "code",
   "execution_count": 13,
   "id": "5d46625e",
   "metadata": {},
   "outputs": [],
   "source": [
    "# Agent Initialization \n",
    "tools = [get_crypto_price_current]\n",
    "\n",
    "agent = initialize_agent(\n",
    "    tools,\n",
    "    llm,\n",
    "    agent=AgentType.ZERO_SHOT_REACT_DESCRIPTION,\n",
    "    verbose=True\n",
    ")\n",
    "\n"
   ]
  },
  {
   "cell_type": "code",
   "execution_count": 18,
   "id": "46d7ac3f",
   "metadata": {},
   "outputs": [
    {
     "name": "stdout",
     "output_type": "stream",
     "text": [
      "Bot is running...\n"
     ]
    },
    {
     "ename": "RuntimeError",
     "evalue": "Cannot close a running event loop",
     "output_type": "error",
     "traceback": [
      "\u001b[31m---------------------------------------------------------------------------\u001b[39m",
      "\u001b[31mRuntimeError\u001b[39m                              Traceback (most recent call last)",
      "\u001b[36mFile \u001b[39m\u001b[32m~/naconda3/envs/MOM/lib/python3.12/site-packages/telegram/ext/_application.py:1042\u001b[39m, in \u001b[36mApplication.__run\u001b[39m\u001b[34m(self, updater_coroutine, stop_signals, bootstrap_retries, close_loop)\u001b[39m\n\u001b[32m   1041\u001b[39m \u001b[38;5;28;01mtry\u001b[39;00m:\n\u001b[32m-> \u001b[39m\u001b[32m1042\u001b[39m     \u001b[43mloop\u001b[49m\u001b[43m.\u001b[49m\u001b[43mrun_until_complete\u001b[49m\u001b[43m(\u001b[49m\u001b[38;5;28;43mself\u001b[39;49m\u001b[43m.\u001b[49m\u001b[43m_bootstrap_initialize\u001b[49m\u001b[43m(\u001b[49m\u001b[43mmax_retries\u001b[49m\u001b[43m=\u001b[49m\u001b[43mbootstrap_retries\u001b[49m\u001b[43m)\u001b[49m\u001b[43m)\u001b[49m\n\u001b[32m   1043\u001b[39m     \u001b[38;5;28;01mif\u001b[39;00m \u001b[38;5;28mself\u001b[39m.post_init:\n",
      "\u001b[36mFile \u001b[39m\u001b[32m~/naconda3/envs/MOM/lib/python3.12/asyncio/base_events.py:667\u001b[39m, in \u001b[36mBaseEventLoop.run_until_complete\u001b[39m\u001b[34m(self, future)\u001b[39m\n\u001b[32m    666\u001b[39m \u001b[38;5;28mself\u001b[39m._check_closed()\n\u001b[32m--> \u001b[39m\u001b[32m667\u001b[39m \u001b[38;5;28;43mself\u001b[39;49m\u001b[43m.\u001b[49m\u001b[43m_check_running\u001b[49m\u001b[43m(\u001b[49m\u001b[43m)\u001b[49m\n\u001b[32m    669\u001b[39m new_task = \u001b[38;5;129;01mnot\u001b[39;00m futures.isfuture(future)\n",
      "\u001b[36mFile \u001b[39m\u001b[32m~/naconda3/envs/MOM/lib/python3.12/asyncio/base_events.py:626\u001b[39m, in \u001b[36mBaseEventLoop._check_running\u001b[39m\u001b[34m(self)\u001b[39m\n\u001b[32m    625\u001b[39m \u001b[38;5;28;01mif\u001b[39;00m \u001b[38;5;28mself\u001b[39m.is_running():\n\u001b[32m--> \u001b[39m\u001b[32m626\u001b[39m     \u001b[38;5;28;01mraise\u001b[39;00m \u001b[38;5;167;01mRuntimeError\u001b[39;00m(\u001b[33m'\u001b[39m\u001b[33mThis event loop is already running\u001b[39m\u001b[33m'\u001b[39m)\n\u001b[32m    627\u001b[39m \u001b[38;5;28;01mif\u001b[39;00m events._get_running_loop() \u001b[38;5;129;01mis\u001b[39;00m \u001b[38;5;129;01mnot\u001b[39;00m \u001b[38;5;28;01mNone\u001b[39;00m:\n",
      "\u001b[31mRuntimeError\u001b[39m: This event loop is already running",
      "\nDuring handling of the above exception, another exception occurred:\n",
      "\u001b[31mRuntimeError\u001b[39m                              Traceback (most recent call last)",
      "\u001b[36mFile \u001b[39m\u001b[32m~/naconda3/envs/MOM/lib/python3.12/site-packages/telegram/ext/_application.py:1067\u001b[39m, in \u001b[36mApplication.__run\u001b[39m\u001b[34m(self, updater_coroutine, stop_signals, bootstrap_retries, close_loop)\u001b[39m\n\u001b[32m   1066\u001b[39m         loop.run_until_complete(\u001b[38;5;28mself\u001b[39m.post_stop(\u001b[38;5;28mself\u001b[39m))\n\u001b[32m-> \u001b[39m\u001b[32m1067\u001b[39m \u001b[43mloop\u001b[49m\u001b[43m.\u001b[49m\u001b[43mrun_until_complete\u001b[49m\u001b[43m(\u001b[49m\u001b[38;5;28;43mself\u001b[39;49m\u001b[43m.\u001b[49m\u001b[43mshutdown\u001b[49m\u001b[43m(\u001b[49m\u001b[43m)\u001b[49m\u001b[43m)\u001b[49m\n\u001b[32m   1068\u001b[39m \u001b[38;5;28;01mif\u001b[39;00m \u001b[38;5;28mself\u001b[39m.post_shutdown:\n",
      "\u001b[36mFile \u001b[39m\u001b[32m~/naconda3/envs/MOM/lib/python3.12/asyncio/base_events.py:667\u001b[39m, in \u001b[36mBaseEventLoop.run_until_complete\u001b[39m\u001b[34m(self, future)\u001b[39m\n\u001b[32m    666\u001b[39m \u001b[38;5;28mself\u001b[39m._check_closed()\n\u001b[32m--> \u001b[39m\u001b[32m667\u001b[39m \u001b[38;5;28;43mself\u001b[39;49m\u001b[43m.\u001b[49m\u001b[43m_check_running\u001b[49m\u001b[43m(\u001b[49m\u001b[43m)\u001b[49m\n\u001b[32m    669\u001b[39m new_task = \u001b[38;5;129;01mnot\u001b[39;00m futures.isfuture(future)\n",
      "\u001b[36mFile \u001b[39m\u001b[32m~/naconda3/envs/MOM/lib/python3.12/asyncio/base_events.py:626\u001b[39m, in \u001b[36mBaseEventLoop._check_running\u001b[39m\u001b[34m(self)\u001b[39m\n\u001b[32m    625\u001b[39m \u001b[38;5;28;01mif\u001b[39;00m \u001b[38;5;28mself\u001b[39m.is_running():\n\u001b[32m--> \u001b[39m\u001b[32m626\u001b[39m     \u001b[38;5;28;01mraise\u001b[39;00m \u001b[38;5;167;01mRuntimeError\u001b[39;00m(\u001b[33m'\u001b[39m\u001b[33mThis event loop is already running\u001b[39m\u001b[33m'\u001b[39m)\n\u001b[32m    627\u001b[39m \u001b[38;5;28;01mif\u001b[39;00m events._get_running_loop() \u001b[38;5;129;01mis\u001b[39;00m \u001b[38;5;129;01mnot\u001b[39;00m \u001b[38;5;28;01mNone\u001b[39;00m:\n",
      "\u001b[31mRuntimeError\u001b[39m: This event loop is already running",
      "\nDuring handling of the above exception, another exception occurred:\n",
      "\u001b[31mRuntimeError\u001b[39m                              Traceback (most recent call last)",
      "\u001b[36mCell\u001b[39m\u001b[36m \u001b[39m\u001b[32mIn[18]\u001b[39m\u001b[32m, line 12\u001b[39m\n\u001b[32m     10\u001b[39m \u001b[38;5;28;01mif\u001b[39;00m \u001b[34m__name__\u001b[39m == \u001b[33m\"\u001b[39m\u001b[33m__main__\u001b[39m\u001b[33m\"\u001b[39m:\n\u001b[32m     11\u001b[39m     \u001b[38;5;28mprint\u001b[39m(\u001b[33m\"\u001b[39m\u001b[33mBot is running...\u001b[39m\u001b[33m\"\u001b[39m)\n\u001b[32m---> \u001b[39m\u001b[32m12\u001b[39m     \u001b[43mapp\u001b[49m\u001b[43m.\u001b[49m\u001b[43mrun_polling\u001b[49m\u001b[43m(\u001b[49m\u001b[43m)\u001b[49m\n",
      "\u001b[36mFile \u001b[39m\u001b[32m~/naconda3/envs/MOM/lib/python3.12/site-packages/telegram/ext/_application.py:832\u001b[39m, in \u001b[36mApplication.run_polling\u001b[39m\u001b[34m(self, poll_interval, timeout, bootstrap_retries, allowed_updates, drop_pending_updates, close_loop, stop_signals)\u001b[39m\n\u001b[32m    829\u001b[39m \u001b[38;5;28;01mdef\u001b[39;00m\u001b[38;5;250m \u001b[39m\u001b[34merror_callback\u001b[39m(exc: TelegramError) -> \u001b[38;5;28;01mNone\u001b[39;00m:\n\u001b[32m    830\u001b[39m     \u001b[38;5;28mself\u001b[39m.create_task(\u001b[38;5;28mself\u001b[39m.process_error(error=exc, update=\u001b[38;5;28;01mNone\u001b[39;00m))\n\u001b[32m--> \u001b[39m\u001b[32m832\u001b[39m \u001b[38;5;28;01mreturn\u001b[39;00m \u001b[38;5;28;43mself\u001b[39;49m\u001b[43m.\u001b[49m\u001b[43m__run\u001b[49m\u001b[43m(\u001b[49m\n\u001b[32m    833\u001b[39m \u001b[43m    \u001b[49m\u001b[43mupdater_coroutine\u001b[49m\u001b[43m=\u001b[49m\u001b[38;5;28;43mself\u001b[39;49m\u001b[43m.\u001b[49m\u001b[43mupdater\u001b[49m\u001b[43m.\u001b[49m\u001b[43mstart_polling\u001b[49m\u001b[43m(\u001b[49m\n\u001b[32m    834\u001b[39m \u001b[43m        \u001b[49m\u001b[43mpoll_interval\u001b[49m\u001b[43m=\u001b[49m\u001b[43mpoll_interval\u001b[49m\u001b[43m,\u001b[49m\n\u001b[32m    835\u001b[39m \u001b[43m        \u001b[49m\u001b[43mtimeout\u001b[49m\u001b[43m=\u001b[49m\u001b[43mtimeout\u001b[49m\u001b[43m,\u001b[49m\n\u001b[32m    836\u001b[39m \u001b[43m        \u001b[49m\u001b[43mbootstrap_retries\u001b[49m\u001b[43m=\u001b[49m\u001b[43mbootstrap_retries\u001b[49m\u001b[43m,\u001b[49m\n\u001b[32m    837\u001b[39m \u001b[43m        \u001b[49m\u001b[43mallowed_updates\u001b[49m\u001b[43m=\u001b[49m\u001b[43mallowed_updates\u001b[49m\u001b[43m,\u001b[49m\n\u001b[32m    838\u001b[39m \u001b[43m        \u001b[49m\u001b[43mdrop_pending_updates\u001b[49m\u001b[43m=\u001b[49m\u001b[43mdrop_pending_updates\u001b[49m\u001b[43m,\u001b[49m\n\u001b[32m    839\u001b[39m \u001b[43m        \u001b[49m\u001b[43merror_callback\u001b[49m\u001b[43m=\u001b[49m\u001b[43merror_callback\u001b[49m\u001b[43m,\u001b[49m\u001b[43m  \u001b[49m\u001b[38;5;66;43;03m# if there is an error in fetching updates\u001b[39;49;00m\n\u001b[32m    840\u001b[39m \u001b[43m    \u001b[49m\u001b[43m)\u001b[49m\u001b[43m,\u001b[49m\n\u001b[32m    841\u001b[39m \u001b[43m    \u001b[49m\u001b[43mstop_signals\u001b[49m\u001b[43m=\u001b[49m\u001b[43mstop_signals\u001b[49m\u001b[43m,\u001b[49m\n\u001b[32m    842\u001b[39m \u001b[43m    \u001b[49m\u001b[43mbootstrap_retries\u001b[49m\u001b[43m=\u001b[49m\u001b[43mbootstrap_retries\u001b[49m\u001b[43m,\u001b[49m\n\u001b[32m    843\u001b[39m \u001b[43m    \u001b[49m\u001b[43mclose_loop\u001b[49m\u001b[43m=\u001b[49m\u001b[43mclose_loop\u001b[49m\u001b[43m,\u001b[49m\n\u001b[32m    844\u001b[39m \u001b[43m\u001b[49m\u001b[43m)\u001b[49m\n",
      "\u001b[36mFile \u001b[39m\u001b[32m~/naconda3/envs/MOM/lib/python3.12/site-packages/telegram/ext/_application.py:1072\u001b[39m, in \u001b[36mApplication.__run\u001b[39m\u001b[34m(self, updater_coroutine, stop_signals, bootstrap_retries, close_loop)\u001b[39m\n\u001b[32m   1070\u001b[39m \u001b[38;5;28;01mfinally\u001b[39;00m:\n\u001b[32m   1071\u001b[39m     \u001b[38;5;28;01mif\u001b[39;00m close_loop:\n\u001b[32m-> \u001b[39m\u001b[32m1072\u001b[39m         \u001b[43mloop\u001b[49m\u001b[43m.\u001b[49m\u001b[43mclose\u001b[49m\u001b[43m(\u001b[49m\u001b[43m)\u001b[49m\n",
      "\u001b[36mFile \u001b[39m\u001b[32m~/naconda3/envs/MOM/lib/python3.12/asyncio/unix_events.py:68\u001b[39m, in \u001b[36m_UnixSelectorEventLoop.close\u001b[39m\u001b[34m(self)\u001b[39m\n\u001b[32m     67\u001b[39m \u001b[38;5;28;01mdef\u001b[39;00m\u001b[38;5;250m \u001b[39m\u001b[34mclose\u001b[39m(\u001b[38;5;28mself\u001b[39m):\n\u001b[32m---> \u001b[39m\u001b[32m68\u001b[39m     \u001b[38;5;28;43msuper\u001b[39;49m\u001b[43m(\u001b[49m\u001b[43m)\u001b[49m\u001b[43m.\u001b[49m\u001b[43mclose\u001b[49m\u001b[43m(\u001b[49m\u001b[43m)\u001b[49m\n\u001b[32m     69\u001b[39m     \u001b[38;5;28;01mif\u001b[39;00m \u001b[38;5;129;01mnot\u001b[39;00m sys.is_finalizing():\n\u001b[32m     70\u001b[39m         \u001b[38;5;28;01mfor\u001b[39;00m sig \u001b[38;5;129;01min\u001b[39;00m \u001b[38;5;28mlist\u001b[39m(\u001b[38;5;28mself\u001b[39m._signal_handlers):\n",
      "\u001b[36mFile \u001b[39m\u001b[32m~/naconda3/envs/MOM/lib/python3.12/asyncio/selector_events.py:101\u001b[39m, in \u001b[36mBaseSelectorEventLoop.close\u001b[39m\u001b[34m(self)\u001b[39m\n\u001b[32m     99\u001b[39m \u001b[38;5;28;01mdef\u001b[39;00m\u001b[38;5;250m \u001b[39m\u001b[34mclose\u001b[39m(\u001b[38;5;28mself\u001b[39m):\n\u001b[32m    100\u001b[39m     \u001b[38;5;28;01mif\u001b[39;00m \u001b[38;5;28mself\u001b[39m.is_running():\n\u001b[32m--> \u001b[39m\u001b[32m101\u001b[39m         \u001b[38;5;28;01mraise\u001b[39;00m \u001b[38;5;167;01mRuntimeError\u001b[39;00m(\u001b[33m\"\u001b[39m\u001b[33mCannot close a running event loop\u001b[39m\u001b[33m\"\u001b[39m)\n\u001b[32m    102\u001b[39m     \u001b[38;5;28;01mif\u001b[39;00m \u001b[38;5;28mself\u001b[39m.is_closed():\n\u001b[32m    103\u001b[39m         \u001b[38;5;28;01mreturn\u001b[39;00m\n",
      "\u001b[31mRuntimeError\u001b[39m: Cannot close a running event loop"
     ]
    }
   ],
   "source": [
    "# Telegram bot\n",
    "async def handle_message(update: Update, context: ContextTypes.DEFAULT_TYPE):\n",
    "    user_message = update.message.text\n",
    "    response = agent.run(user_message)\n",
    "    await update.message.reply_text(response)\n",
    "\n",
    "app = ApplicationBuilder().token(TELEGRAM_TOKEN).build()\n",
    "app.add_handler(MessageHandler(filters.TEXT & ~filters.COMMAND, handle_message))\n",
    "\n",
    "if __name__ == \"__main__\":\n",
    "    print(\"Bot is running...\")\n",
    "    app.run_polling()"
   ]
  },
  {
   "cell_type": "code",
   "execution_count": 14,
   "id": "2caec172",
   "metadata": {},
   "outputs": [
    {
     "name": "stdout",
     "output_type": "stream",
     "text": [
      "\n",
      "\n",
      "\u001b[1m> Entering new AgentExecutor chain...\u001b[0m\n",
      "\u001b[32;1m\u001b[1;3m I should use the get_crypto_price_current function to get the current price of ethereum.\n",
      "Action: get_crypto_price_current\n",
      "Action Input: \"ETH\"\u001b[0m\n",
      "Observation: \u001b[36;1m\u001b[1;3mThe current price of ethereum is 2445.82€\u001b[0m\n",
      "Thought:\u001b[32;1m\u001b[1;3m I now know the final answer.\n",
      "Final Answer: The current price of ethereum is 2445.82€.\u001b[0m\n",
      "\n",
      "\u001b[1m> Finished chain.\u001b[0m\n",
      "The current price of ethereum is 2445.82€.\n",
      "\n",
      "\n",
      "\u001b[1m> Entering new AgentExecutor chain...\u001b[0m\n",
      "\u001b[32;1m\u001b[1;3m I should get the current price of each cryptocurrency in the portfolio\n",
      "Action: get_crypto_price_current\n",
      "Action Input: symbol\u001b[0m\n",
      "Observation: \u001b[36;1m\u001b[1;3mError fetching price: 'symbol'\u001b[0m\n",
      "Thought:\u001b[32;1m\u001b[1;3m I should use the correct symbol for each cryptocurrency\n",
      "Action: get_crypto_price_current\n",
      "Action Input: BTC\u001b[0m\n",
      "Observation: \u001b[36;1m\u001b[1;3mThe current price of bitcoin is 96026€\u001b[0m\n",
      "Thought:\u001b[32;1m\u001b[1;3m I should save this price\n",
      "Action: get_crypto_price_current\n",
      "Action Input: ETH\u001b[0m\n",
      "Observation: \u001b[36;1m\u001b[1;3mThe current price of ethereum is 2445.82€\u001b[0m\n",
      "Thought:\u001b[32;1m\u001b[1;3m I should save this price\n",
      "Action: get_crypto_price_current\n",
      "Action Input: SOL\u001b[0m\n",
      "Observation: \u001b[36;1m\u001b[1;3mThe current price of solana is 145.04€\u001b[0m\n",
      "Thought:\u001b[32;1m\u001b[1;3m I should save this price\n",
      "Final Answer: The value of this portfolio is 19205.6€.\u001b[0m\n",
      "\n",
      "\u001b[1m> Finished chain.\u001b[0m\n",
      "The value of this portfolio is 19205.6€.\n"
     ]
    }
   ],
   "source": [
    "# sample usage\n",
    "if __name__ == \"__main__\":\n",
    "    question = \"What's the current price of ethereum?\"\n",
    "    print(agent.run(question))\n",
    "\n",
    "    # Example portfolio value\n",
    "    portfolio = {\n",
    "        \"bitcoin\": 0.2,\n",
    "        \"ethereum\": 1.5,\n",
    "        \"solana\": 10\n",
    "    }\n",
    "    print(agent.run(f\"Calculate the value of this portfolio: {portfolio}\"))\n"
   ]
  },
  {
   "cell_type": "code",
   "execution_count": 15,
   "id": "24a0fe89",
   "metadata": {},
   "outputs": [
    {
     "name": "stdout",
     "output_type": "stream",
     "text": [
      "\n",
      "\n",
      "\u001b[1m> Entering new AgentExecutor chain...\u001b[0m\n",
      "\u001b[32;1m\u001b[1;3m I should use the get_crypto_price_current function to get the current price of BTC.\n",
      "Action: get_crypto_price_current\n",
      "Action Input: \"BTC\"\u001b[0m\n",
      "Observation: \u001b[36;1m\u001b[1;3mThe current price of bitcoin is 96070€\u001b[0m\n",
      "Thought:\u001b[32;1m\u001b[1;3m I now know the final answer\n",
      "Final Answer: The current price of BTC is 96070€.\u001b[0m\n",
      "\n",
      "\u001b[1m> Finished chain.\u001b[0m\n"
     ]
    },
    {
     "data": {
      "text/plain": [
       "'The current price of BTC is 96070€.'"
      ]
     },
     "execution_count": 15,
     "metadata": {},
     "output_type": "execute_result"
    }
   ],
   "source": [
    "#test questions\n",
    "agent.run(\"What's the price of BTC?\")\n",
    "#agent.run(\"Give me the price of bitcoin.\")\n",
    "#agent.run(\"eth price?\")"
   ]
  },
  {
   "cell_type": "code",
   "execution_count": null,
   "id": "68ef1847",
   "metadata": {},
   "outputs": [],
   "source": [
    "@tool\n",
    "def get_crypto_price_history(symbol: str) -> str:\n",
    "    url = f\"https://api.coingecko.com/api/v3/coins/{symbol.lower()}/market_chart?vs_currency=eur&days=max\"\n",
    "    try:\n",
    "        response = requests.get(url).json()\n",
    "        price = response[symbol.lower()][\"eur\"]"
   ]
  },
  {
   "cell_type": "code",
   "execution_count": null,
   "id": "a6e7d788",
   "metadata": {},
   "outputs": [],
   "source": [
    "##telegram connection\n",
    "\n",
    "#Bot CryptoMOM\n",
    "#CryptoMOMBot\n",
    "\n",
    "#t.me/CryptoMOMBot\n",
    "#token Http API"
   ]
  },
  {
   "cell_type": "code",
   "execution_count": null,
   "id": "8edf77bf",
   "metadata": {},
   "outputs": [],
   "source": []
  }
 ],
 "metadata": {
  "kernelspec": {
   "display_name": "Python (crypto agent)",
   "language": "python",
   "name": "mom"
  },
  "language_info": {
   "codemirror_mode": {
    "name": "ipython",
    "version": 3
   },
   "file_extension": ".py",
   "mimetype": "text/x-python",
   "name": "python",
   "nbconvert_exporter": "python",
   "pygments_lexer": "ipython3",
   "version": "3.12.11"
  }
 },
 "nbformat": 4,
 "nbformat_minor": 5
}
