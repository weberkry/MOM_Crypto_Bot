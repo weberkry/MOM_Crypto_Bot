{
 "cells": [
  {
   "cell_type": "code",
   "execution_count": 1,
   "id": "ddc6fe20",
   "metadata": {},
   "outputs": [],
   "source": [
    "from mom import influxDB_utils as influx\n",
    "from mom import Mandelbrot\n",
    "import pandas as pd\n",
    "from datetime import datetime, timezone\n",
    "from influxDB_utils import write_dataframe, get_query_api  #my file\n"
   ]
  },
  {
   "cell_type": "code",
   "execution_count": 2,
   "id": "3e9e1c07",
   "metadata": {},
   "outputs": [],
   "source": []
  },
  {
   "cell_type": "code",
   "execution_count": null,
   "id": "e921e184",
   "metadata": {},
   "outputs": [],
   "source": []
  },
  {
   "cell_type": "code",
   "execution_count": 5,
   "id": "e4eeedf8",
   "metadata": {},
   "outputs": [],
   "source": []
  },
  {
   "cell_type": "code",
   "execution_count": null,
   "id": "57bb15d3",
   "metadata": {},
   "outputs": [],
   "source": []
  }
 ],
 "metadata": {
  "kernelspec": {
   "display_name": "Python (MOM)",
   "language": "python",
   "name": "mom"
  },
  "language_info": {
   "codemirror_mode": {
    "name": "ipython",
    "version": 3
   },
   "file_extension": ".py",
   "mimetype": "text/x-python",
   "name": "python",
   "nbconvert_exporter": "python",
   "pygments_lexer": "ipython3",
   "version": "3.12.2"
  }
 },
 "nbformat": 4,
 "nbformat_minor": 5
}
