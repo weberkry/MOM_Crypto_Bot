{
 "cells": [
  {
   "cell_type": "code",
   "execution_count": 4,
   "id": "0d778f31",
   "metadata": {},
   "outputs": [],
   "source": []
  },
  {
   "cell_type": "code",
   "execution_count": 1,
   "id": "ddc6fe20",
   "metadata": {},
   "outputs": [
    {
     "ename": "ModuleNotFoundError",
     "evalue": "No module named 'src'",
     "output_type": "error",
     "traceback": [
      "\u001b[31m---------------------------------------------------------------------------\u001b[39m",
      "\u001b[31mModuleNotFoundError\u001b[39m                       Traceback (most recent call last)",
      "\u001b[36mCell\u001b[39m\u001b[36m \u001b[39m\u001b[32mIn[1]\u001b[39m\u001b[32m, line 10\u001b[39m\n\u001b[32m      8\u001b[39m \u001b[38;5;28;01mimport\u001b[39;00m\u001b[38;5;250m \u001b[39m\u001b[34;01mccxt\u001b[39;00m\n\u001b[32m      9\u001b[39m \u001b[38;5;28;01mfrom\u001b[39;00m\u001b[38;5;250m \u001b[39m\u001b[34;01mdatetime\u001b[39;00m\u001b[38;5;250m \u001b[39m\u001b[38;5;28;01mimport\u001b[39;00m datetime, timezone, timedelta\n\u001b[32m---> \u001b[39m\u001b[32m10\u001b[39m \u001b[38;5;28;01mfrom\u001b[39;00m\u001b[38;5;250m \u001b[39m\u001b[34;01msrc\u001b[39;00m\u001b[34;01m.\u001b[39;00m\u001b[34;01mtool\u001b[39;00m\u001b[38;5;250m \u001b[39m\u001b[38;5;28;01mimport\u001b[39;00m influxDB_utils \u001b[38;5;28;01mas\u001b[39;00m influx  \u001b[38;5;66;03m#my file\u001b[39;00m\n\u001b[32m     11\u001b[39m \u001b[38;5;28;01mfrom\u001b[39;00m\u001b[38;5;250m \u001b[39m\u001b[34;01mtool\u001b[39;00m\u001b[38;5;250m \u001b[39m\u001b[38;5;28;01mimport\u001b[39;00m Mandelbrot\n",
      "\u001b[31mModuleNotFoundError\u001b[39m: No module named 'src'"
     ]
    }
   ],
   "source": [
    "import pandas as pd\n",
    "import yfinance as yf\n",
    "import ccxt\n",
    "from datetime import datetime, timezone, timedelta\n",
    "from mom import influxDB_utils as influx\n",
    "from mom import Mandelbrot\n"
   ]
  },
  {
   "cell_type": "code",
   "execution_count": 19,
   "id": "26a60576",
   "metadata": {},
   "outputs": [],
   "source": [
    "# Config\n",
    "ASSETS = [\"BTC\", \"ETH\"]\n",
    "CURRENCIES = [\"EUR\"]\n",
    "GRANULARITIES = {\n",
    "    \"Day\": \"1d\",\n",
    "    \"Hour\": \"1h\",\n",
    "    \"Minute\": \"1m\",\n",
    "    # \"Week\": not directly supported in yfinance → use 1d and resample\n",
    "}"
   ]
  },
  {
   "cell_type": "code",
   "execution_count": 20,
   "id": "01943785",
   "metadata": {},
   "outputs": [],
   "source": [
    "client = influx.get_client()\n",
    "query_api = client.query_api()"
   ]
  },
  {
   "cell_type": "code",
   "execution_count": 29,
   "id": "3e9e1c07",
   "metadata": {},
   "outputs": [
    {
     "name": "stdout",
     "output_type": "stream",
     "text": [
      "1d Day\n",
      "Updating Day for BTC since 2025-08-29 00:00:01+00:00\n",
      "1d\n",
      "Wrote 3 rows to InfluxDB bucket 'CryptoPrices'\n",
      "Updated BTC (Day) with 3 new rows\n",
      "1h Hour\n",
      "Updating Hour for BTC since 2025-08-29 00:00:01+00:00\n",
      "1h\n",
      "Wrote 60 rows to InfluxDB bucket 'CryptoPrices'\n",
      "Updated BTC (Hour) with 60 new rows\n",
      "1m Minute\n",
      "Updating Minute for BTC since 2025-08-29 00:00:01+00:00\n",
      "1m\n",
      "Wrote 3090 rows to InfluxDB bucket 'CryptoPrices'\n",
      "Updated BTC (Minute) with 3090 new rows\n",
      "1d Day\n",
      "Updating Day for ETH since 2025-08-29 00:00:01+00:00\n",
      "1d\n",
      "Wrote 3 rows to InfluxDB bucket 'CryptoPrices'\n",
      "Updated ETH (Day) with 3 new rows\n",
      "1h Hour\n",
      "Updating Hour for ETH since 2025-08-29 00:00:01+00:00\n",
      "1h\n",
      "Wrote 60 rows to InfluxDB bucket 'CryptoPrices'\n",
      "Updated ETH (Hour) with 60 new rows\n",
      "1m Minute\n",
      "Updating Minute for ETH since 2025-08-29 00:00:01+00:00\n",
      "1m\n",
      "Wrote 3090 rows to InfluxDB bucket 'CryptoPrices'\n",
      "Updated ETH (Minute) with 3090 new rows\n"
     ]
    }
   ],
   "source": [
    "def get_last_timestamp(measurement: str, asset: str, currency: str) -> datetime:\n",
    "    \"\"\"\n",
    "    Query InfluxDB to get the most recent timestamp for a measurement/asset/currency.\n",
    "    \"\"\"\n",
    "    query = f\"\"\"\n",
    "    from(bucket: \"{influx.INFLUX_BUCKET}\")\n",
    "      |> range(start: 0)\n",
    "      |> filter(fn: (r) => r._measurement == \"{measurement}\")\n",
    "      |> filter(fn: (r) => r.asset == \"{asset}\")\n",
    "      |> filter(fn: (r) => r.currency == \"{currency}\")\n",
    "      |> filter(fn: (r) => r._field == \"high\")\n",
    "      |> last()\n",
    "    \"\"\"\n",
    "    tables = query_api.query(org=influx.INFLUX_ORG, query=query)\n",
    "    if not tables or not tables[0].records:\n",
    "        return None\n",
    "    return tables[0].records[0].get_time()\n",
    "\n",
    "\n",
    "def fetch_data(asset: str,currency: str, interval: str, start: datetime) -> pd.DataFrame:\n",
    "    \"\"\"\n",
    "    Fetch OHLC data from yfinance from 'start' until now.\n",
    "    \"\"\"\n",
    "    ticker = yf.Ticker(f\"{asset}-{currency}\")\n",
    "    print(GRANULARITIES.get(interval))\n",
    "    df = ticker.history(interval=GRANULARITIES.get(interval), start=start)\n",
    "    if df.empty:\n",
    "        return df\n",
    "    \n",
    "    df = Mandelbrot.reset_index(df)\n",
    "    df = Mandelbrot.process_raw_DF(df)\n",
    "    df = df.set_index(\"date\")\n",
    "    df[\"asset\"] = asset\n",
    "    df[\"currency\"] = currency\n",
    "    df[\"interval\"] = interval\n",
    "    for i in [\"volume\", \"high\",\"low\",\"delta\",\"delta_log\",\"return\",\"return_log\"]:\n",
    "        df[i] = df[i].astype(float)\n",
    "    #print(df.head())\n",
    "    return df\n",
    "\n",
    "\n",
    "def update():\n",
    "    for curr in CURRENCIES:\n",
    "        for asset in ASSETS:\n",
    "            for interval, gran in GRANULARITIES.items():\n",
    "                measurement = f\"{interval}\"\n",
    "                print(gran, interval)\n",
    "                last_time = get_last_timestamp(measurement, asset, curr)\n",
    "                start = last_time + timedelta(seconds=1) if last_time else datetime(2015, 1, 1, tzinfo=timezone.utc)\n",
    "\n",
    "                print(f\"Updating {measurement} for {asset} since {start}\")\n",
    "\n",
    "                df = fetch_data(asset,curr , interval, start)\n",
    "                if df.empty:\n",
    "                    print(f\"No new data for {asset} ({interval})\")\n",
    "                    continue\n",
    "\n",
    "                influx.write_dataframe(df)\n",
    "                print(f\"Updated {asset} ({interval}) with {len(df)} new rows\")\n",
    "\n",
    "\n",
    "if __name__ == \"__main__\":\n",
    "    update()"
   ]
  },
  {
   "cell_type": "code",
   "execution_count": 22,
   "id": "e921e184",
   "metadata": {},
   "outputs": [
    {
     "ename": "NameError",
     "evalue": "name 'interval' is not defined",
     "output_type": "error",
     "traceback": [
      "\u001b[31m---------------------------------------------------------------------------\u001b[39m",
      "\u001b[31mNameError\u001b[39m                                 Traceback (most recent call last)",
      "\u001b[36mCell\u001b[39m\u001b[36m \u001b[39m\u001b[32mIn[22]\u001b[39m\u001b[32m, line 1\u001b[39m\n\u001b[32m----> \u001b[39m\u001b[32m1\u001b[39m GRANULARITIES.get(\u001b[43minterval\u001b[49m)\n",
      "\u001b[31mNameError\u001b[39m: name 'interval' is not defined"
     ]
    }
   ],
   "source": [
    "GRANULARITIES.get(interval)"
   ]
  },
  {
   "cell_type": "code",
   "execution_count": 30,
   "id": "e4eeedf8",
   "metadata": {},
   "outputs": [
    {
     "name": "stdout",
     "output_type": "stream",
     "text": [
      "2025-08-31 00:00:00+00:00\n"
     ]
    }
   ],
   "source": [
    "last_time = get_last_timestamp(\"Day\", \"BTC\", \"EUR\")\n",
    "print(last_time)"
   ]
  },
  {
   "cell_type": "code",
   "execution_count": 6,
   "id": "57bb15d3",
   "metadata": {},
   "outputs": [
    {
     "name": "stdout",
     "output_type": "stream",
     "text": [
      "2025-08-29 00:00:01+00:00\n"
     ]
    }
   ],
   "source": [
    "start = last_time + timedelta(seconds=1) if last_time else datetime(2015, 1, 1, tzinfo=timezone.utc)\n",
    "print(start)"
   ]
  },
  {
   "cell_type": "code",
   "execution_count": 16,
   "id": "54a9e1a4",
   "metadata": {},
   "outputs": [
    {
     "name": "stdout",
     "output_type": "stream",
     "text": [
      "Index(['unix', 'volume', 'high', 'low', 'delta', 'delta_log', 'return',\n",
      "       'return_log'],\n",
      "      dtype='object')\n",
      "                  unix       volume          high           low        delta  \\\n",
      "date                                                                           \n",
      "2025-08-29  1756425600  66615328407  96446.390625  92045.328125          NaN   \n",
      "2025-08-30  1756512000  44054324942  93201.585938  91946.765625 -3244.804688   \n",
      "2025-08-31  1756598400  38736064512  93657.445312  92745.210938   455.859375   \n",
      "\n",
      "            delta_log    return  return_log asset currency interval  \n",
      "date                                                                 \n",
      "2025-08-29        NaN       NaN         NaN   BTC      EUR      Day  \n",
      "2025-08-30  -3.511189 -0.033644   -0.033644   BTC      EUR      Day  \n",
      "2025-08-31   2.658831  0.004891    0.004891   BTC      EUR      Day  \n"
     ]
    }
   ],
   "source": [
    "df = fetch_data(\"BTC\",\"EUR\",\"Day\", start)"
   ]
  },
  {
   "cell_type": "code",
   "execution_count": 14,
   "id": "ab4cd5c1",
   "metadata": {},
   "outputs": [
    {
     "data": {
      "text/html": [
       "<div>\n",
       "<style scoped>\n",
       "    .dataframe tbody tr th:only-of-type {\n",
       "        vertical-align: middle;\n",
       "    }\n",
       "\n",
       "    .dataframe tbody tr th {\n",
       "        vertical-align: top;\n",
       "    }\n",
       "\n",
       "    .dataframe thead th {\n",
       "        text-align: right;\n",
       "    }\n",
       "</style>\n",
       "<table border=\"1\" class=\"dataframe\">\n",
       "  <thead>\n",
       "    <tr style=\"text-align: right;\">\n",
       "      <th></th>\n",
       "      <th>unix</th>\n",
       "      <th>date</th>\n",
       "      <th>volume</th>\n",
       "      <th>high</th>\n",
       "      <th>low</th>\n",
       "      <th>delta</th>\n",
       "      <th>delta_log</th>\n",
       "      <th>return</th>\n",
       "      <th>return_log</th>\n",
       "      <th>asset</th>\n",
       "      <th>currency</th>\n",
       "      <th>interval</th>\n",
       "    </tr>\n",
       "  </thead>\n",
       "  <tbody>\n",
       "    <tr>\n",
       "      <th>0</th>\n",
       "      <td>1756425600</td>\n",
       "      <td>2025-08-29</td>\n",
       "      <td>66615328407</td>\n",
       "      <td>96446.390625</td>\n",
       "      <td>92045.328125</td>\n",
       "      <td>NaN</td>\n",
       "      <td>NaN</td>\n",
       "      <td>NaN</td>\n",
       "      <td>NaN</td>\n",
       "      <td>BTC</td>\n",
       "      <td>EUR</td>\n",
       "      <td>Day</td>\n",
       "    </tr>\n",
       "    <tr>\n",
       "      <th>1</th>\n",
       "      <td>1756512000</td>\n",
       "      <td>2025-08-30</td>\n",
       "      <td>44054324942</td>\n",
       "      <td>93201.585938</td>\n",
       "      <td>91946.765625</td>\n",
       "      <td>-3244.804688</td>\n",
       "      <td>-3.511189</td>\n",
       "      <td>-0.033644</td>\n",
       "      <td>-0.033644</td>\n",
       "      <td>BTC</td>\n",
       "      <td>EUR</td>\n",
       "      <td>Day</td>\n",
       "    </tr>\n",
       "    <tr>\n",
       "      <th>2</th>\n",
       "      <td>1756598400</td>\n",
       "      <td>2025-08-31</td>\n",
       "      <td>38760181760</td>\n",
       "      <td>93657.445312</td>\n",
       "      <td>92745.210938</td>\n",
       "      <td>455.859375</td>\n",
       "      <td>2.658831</td>\n",
       "      <td>0.004891</td>\n",
       "      <td>0.004891</td>\n",
       "      <td>BTC</td>\n",
       "      <td>EUR</td>\n",
       "      <td>Day</td>\n",
       "    </tr>\n",
       "  </tbody>\n",
       "</table>\n",
       "</div>"
      ],
      "text/plain": [
       "         unix       date       volume          high           low  \\\n",
       "0  1756425600 2025-08-29  66615328407  96446.390625  92045.328125   \n",
       "1  1756512000 2025-08-30  44054324942  93201.585938  91946.765625   \n",
       "2  1756598400 2025-08-31  38760181760  93657.445312  92745.210938   \n",
       "\n",
       "         delta  delta_log    return  return_log asset currency interval  \n",
       "0          NaN        NaN       NaN         NaN   BTC      EUR      Day  \n",
       "1 -3244.804688  -3.511189 -0.033644   -0.033644   BTC      EUR      Day  \n",
       "2   455.859375   2.658831  0.004891    0.004891   BTC      EUR      Day  "
      ]
     },
     "execution_count": 14,
     "metadata": {},
     "output_type": "execute_result"
    }
   ],
   "source": [
    "df.head()"
   ]
  },
  {
   "cell_type": "code",
   "execution_count": 17,
   "id": "254c62eb",
   "metadata": {},
   "outputs": [],
   "source": [
    "ticker = yf.Ticker(\"BTC\")\n",
    "df = ticker.history(interval=\"1d\", start=start)"
   ]
  },
  {
   "cell_type": "code",
   "execution_count": 15,
   "id": "27d63ccc",
   "metadata": {},
   "outputs": [
    {
     "name": "stdout",
     "output_type": "stream",
     "text": [
      "yes\n"
     ]
    }
   ],
   "source": [
    "x = [\"high_x\",\"high_y\",\"high\"]\n",
    "\n",
    "if \"high_x\" in x:\n",
    "    print(\"yes\")\n",
    "else:\n",
    "    print(\"no\")"
   ]
  }
 ],
 "metadata": {
  "kernelspec": {
   "display_name": "Python (MOM)",
   "language": "python",
   "name": "mom"
  },
  "language_info": {
   "codemirror_mode": {
    "name": "ipython",
    "version": 3
   },
   "file_extension": ".py",
   "mimetype": "text/x-python",
   "name": "python",
   "nbconvert_exporter": "python",
   "pygments_lexer": "ipython3",
   "version": "3.12.2"
  }
 },
 "nbformat": 4,
 "nbformat_minor": 5
}
