{
 "cells": [
  {
   "cell_type": "code",
   "execution_count": 1,
   "id": "caab2e73",
   "metadata": {},
   "outputs": [],
   "source": [
    "from datetime import datetime\n",
    "from src.storage.influxdb_writer import write_risk_metrics\n",
    "\n",
    "metrics = {\n",
    "    'hurst': 0.62,\n",
    "    'tail_alpha': 3.1,\n",
    "    'fractal_dimension': 1.38,\n",
    "}\n",
    "write_risk_metrics('BTC/USDT', metrics)\n",
    "\n"
   ]
  }
 ],
 "metadata": {
  "kernelspec": {
   "display_name": "Python (crypto agent)",
   "language": "python",
   "name": "mom"
  },
  "language_info": {
   "codemirror_mode": {
    "name": "ipython",
    "version": 3
   },
   "file_extension": ".py",
   "mimetype": "text/x-python",
   "name": "python",
   "nbconvert_exporter": "python",
   "pygments_lexer": "ipython3",
   "version": "3.12.11"
  }
 },
 "nbformat": 4,
 "nbformat_minor": 5
}
