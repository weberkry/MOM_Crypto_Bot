{
 "cells": [
  {
   "cell_type": "code",
   "execution_count": 1,
   "id": "7ead3931",
   "metadata": {},
   "outputs": [],
   "source": [
    "import sys, os\n",
    "\n",
    "# go up one level from the notebook folder\n",
    "sys.path.append(os.path.abspath(\"../analysis\"))\n",
    "sys.path.append(os.path.abspath(\"../config\"))\n",
    "\n",
    "import Mandelbrot #defined/customized functions from Mandelbrot.py\n",
    "import influxDB_utils as influx\n",
    "from influxdb_client import Point\n",
    "from datetime import datetime, timezone"
   ]
  },
  {
   "cell_type": "code",
   "execution_count": 3,
   "id": "94bd9ecc",
   "metadata": {},
   "outputs": [],
   "source": [
    "#test influx variables\n",
    "#influx.get_org()"
   ]
  },
  {
   "cell_type": "code",
   "execution_count": 8,
   "id": "c7f31c5d",
   "metadata": {},
   "outputs": [
    {
     "name": "stdout",
     "output_type": "stream",
     "text": [
      "downloading the EUR price/m for ETH from https://www.cryptodatadownload.com/cdd/Binance_ETHEUR_minute.csv....\n",
      "downloading the EUR price/m for ETH from yfinance....\n",
      "merged yf and cdd\n",
      "downloading the EUR price/d for ETH from https://www.cryptodatadownload.com/cdd/Binance_ETHEUR_d.csv....\n",
      "downloading the EUR price/d for ETH from yfinance....\n",
      "merged yf and cdd\n"
     ]
    }
   ],
   "source": [
    "#collect available historical data\n",
    "\n",
    "MIN, HOUR, DAY, WEEK, MONTH = Mandelbrot.historical_datasets(crypto=\"ETH\", curr=\"EUR\")"
   ]
  },
  {
   "cell_type": "code",
   "execution_count": 9,
   "id": "2b22306c",
   "metadata": {},
   "outputs": [
    {
     "data": {
      "text/plain": [
       "Index(['unix', 'volume', 'high', 'low', 'delta_high', 'delta_low', 'currency',\n",
       "       'asset', 'interval'],\n",
       "      dtype='object')"
      ]
     },
     "execution_count": 9,
     "metadata": {},
     "output_type": "execute_result"
    }
   ],
   "source": [
    "DAY.columns"
   ]
  },
  {
   "cell_type": "code",
   "execution_count": 10,
   "id": "3360d0bf",
   "metadata": {},
   "outputs": [
    {
     "data": {
      "text/plain": [
       "'M'"
      ]
     },
     "execution_count": 10,
     "metadata": {},
     "output_type": "execute_result"
    }
   ],
   "source": [
    "DAY.index.dtype.kind"
   ]
  },
  {
   "cell_type": "code",
   "execution_count": 11,
   "id": "871052a7",
   "metadata": {},
   "outputs": [
    {
     "name": "stdout",
     "output_type": "stream",
     "text": [
      "Wrote 825042 rows to InfluxDB bucket 'Crypto'\n",
      "Wrote 23741 rows to InfluxDB bucket 'Crypto'\n",
      "Wrote 2845 rows to InfluxDB bucket 'Crypto'\n",
      "Wrote 407 rows to InfluxDB bucket 'Crypto'\n",
      "Wrote 93 rows to InfluxDB bucket 'Crypto'\n"
     ]
    }
   ],
   "source": [
    "for INTERVAL in [MIN,HOUR,DAY,WEEK,MONTH]:\n",
    "    influx.write_dataframe(INTERVAL)"
   ]
  },
  {
   "cell_type": "code",
   "execution_count": null,
   "id": "91694bf4",
   "metadata": {},
   "outputs": [],
   "source": []
  },
  {
   "cell_type": "code",
   "execution_count": null,
   "id": "56d96b95",
   "metadata": {},
   "outputs": [],
   "source": []
  },
  {
   "cell_type": "code",
   "execution_count": null,
   "id": "9f203d1e",
   "metadata": {},
   "outputs": [],
   "source": []
  },
  {
   "cell_type": "code",
   "execution_count": null,
   "id": "8bf27eaa",
   "metadata": {},
   "outputs": [],
   "source": []
  },
  {
   "cell_type": "code",
   "execution_count": null,
   "id": "02087622",
   "metadata": {},
   "outputs": [],
   "source": []
  },
  {
   "cell_type": "code",
   "execution_count": null,
   "id": "2804118f",
   "metadata": {},
   "outputs": [],
   "source": []
  },
  {
   "cell_type": "code",
   "execution_count": null,
   "id": "0d19ad57",
   "metadata": {},
   "outputs": [],
   "source": []
  },
  {
   "cell_type": "code",
   "execution_count": null,
   "id": "920520a0",
   "metadata": {},
   "outputs": [],
   "source": []
  },
  {
   "cell_type": "code",
   "execution_count": null,
   "id": "1a0733a4",
   "metadata": {},
   "outputs": [],
   "source": []
  },
  {
   "cell_type": "code",
   "execution_count": null,
   "id": "fb149b54",
   "metadata": {},
   "outputs": [],
   "source": []
  },
  {
   "cell_type": "code",
   "execution_count": null,
   "id": "7e1cb53a",
   "metadata": {},
   "outputs": [],
   "source": []
  }
 ],
 "metadata": {
  "kernelspec": {
   "display_name": "Python (crypto agent)",
   "language": "python",
   "name": "mom"
  },
  "language_info": {
   "codemirror_mode": {
    "name": "ipython",
    "version": 3
   },
   "file_extension": ".py",
   "mimetype": "text/x-python",
   "name": "python",
   "nbconvert_exporter": "python",
   "pygments_lexer": "ipython3",
   "version": "3.12.11"
  }
 },
 "nbformat": 4,
 "nbformat_minor": 5
}
